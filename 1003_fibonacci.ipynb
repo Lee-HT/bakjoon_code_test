{
  "nbformat": 4,
  "nbformat_minor": 0,
  "metadata": {
    "colab": {
      "provenance": [],
      "authorship_tag": "ABX9TyO5DTDCVw3gLbe0o6fSc0Py"
    },
    "kernelspec": {
      "name": "python3",
      "display_name": "Python 3"
    },
    "language_info": {
      "name": "python"
    }
  },
  "cells": [
    {
      "cell_type": "code",
      "execution_count": null,
      "metadata": {
        "colab": {
          "base_uri": "https://localhost:8080/"
        },
        "id": "lJIbSr22rRW6",
        "outputId": "ac6c24b1-e076-47b3-8a77-4c1955bc5acd"
      },
      "outputs": [
        {
          "output_type": "stream",
          "name": "stdout",
          "text": [
            "1\n",
            "0\n",
            "1 0\n"
          ]
        }
      ],
      "source": [
        "num = int(input())\n",
        "N = [int(input()) for n in range(num)]\n",
        "\n",
        "def fibonacci(nums):\n",
        "  max_num = max(nums)\n",
        "  dp = [[0,0] for i in range(max(2,max_num+1))]\n",
        "  dp[0],dp[1] = [1,0],[0,1]\n",
        "  for i in range(2,max_num+1):\n",
        "    for j in range(2):\n",
        "      dp[i][j] = dp[i-1][j] + dp[i-2][j]\n",
        "  answer = [dp[n] for n in nums]\n",
        "  for ans in answer:\n",
        "    print(f\"{ans[0]} {ans[1]}\")\n",
        "\n",
        "fibonacci(N)"
      ]
    }
  ]
}